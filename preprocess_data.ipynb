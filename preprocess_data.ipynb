{
 "cells": [
  {
   "cell_type": "code",
   "execution_count": null,
   "id": "5877408f",
   "metadata": {},
   "outputs": [],
   "source": [
    "import pandas as pd\n",
    "from tqdm import tqdm\n",
    "\n",
    "def clean_name(name):\n",
    "    endIndex = name.find(\"#\")\n",
    "    if endIndex != -1:\n",
    "        name = name[0:endIndex]\n",
    "    name = name.strip()\n",
    "    \n",
    "    return name"
   ]
  },
  {
   "cell_type": "markdown",
   "id": "7311933b",
   "metadata": {},
   "source": [
    "# Run to combine inspections and violations data"
   ]
  },
  {
   "cell_type": "code",
   "execution_count": null,
   "id": "926b74d5",
   "metadata": {},
   "outputs": [],
   "source": [
    "# Have downloaded files in current directory\n",
    "inspections = pd.read_csv(\"Environmental_Health_Restaurant_and_Market_Inspections.csv\", encoding = \"latin1\")\n",
    "violations = pd.read_csv(\"Environmental_Health_Restaurant_and_Market_Violations.csv\")"
   ]
  },
  {
   "cell_type": "code",
   "execution_count": null,
   "id": "9fd2b97b",
   "metadata": {},
   "outputs": [],
   "source": [
    "# Combine inspections dataset with violations dataset\n",
    "def combine_data(inspections, violations):\n",
    "    finalInspections = inspections.copy()\n",
    "    # Loop through each inspection\n",
    "    for i in tqdm(range(len(finalInspections))):\n",
    "        inspectionIndex = finalInspections.index[i]\n",
    "        # Find associated violations by serial number\n",
    "        serialNumber = finalInspections.loc[inspectionIndex, \"SERIAL NUMBER\"]\n",
    "        restaurantViolations = violations.loc[violations[\"SERIAL NUMBER\"] == serialNumber]\n",
    "        # Add violations to inspections data\n",
    "        for j in range(len(restaurantViolations)):\n",
    "            index = restaurantViolations.index[j]\n",
    "            status = restaurantViolations.loc[index, \"VIOLATION STATUS\"]\n",
    "            code = restaurantViolations.loc[index, \"VIOLATION CODE\"]\n",
    "            description = restaurantViolations.loc[index, \"VIOLATION DESCRIPTION\"]\n",
    "            points = restaurantViolations.loc[index, \"POINTS\"]\n",
    "            \n",
    "            finalInspections.loc[inspectionIndex, \"VIOLATION STATUS \" + str(j)] = status\n",
    "            finalInspections.loc[inspectionIndex, \"VIOLATION CODE \" + str(j)] = code\n",
    "            finalInspections.loc[inspectionIndex, \"VIOLATION DESCRIPTION \" + str(j)] = description\n",
    "            finalInspections.loc[inspectionIndex, \"POINTS \" + str(j)] = points\n",
    "    \n",
    "    return finalInspections"
   ]
  },
  {
   "cell_type": "code",
   "execution_count": null,
   "id": "8e1ed34b",
   "metadata": {},
   "outputs": [],
   "source": [
    "finalData = inspections.copy()    \n",
    "finalData = finalData.drop(columns = [\"OWNER ID\", \"RECORD ID\", \"FACILITY ID\", \"EMPLOYEE ID\"])\n",
    "\n",
    "adjustedFinalData = combine_data(finalData, violations)"
   ]
  },
  {
   "cell_type": "code",
   "execution_count": null,
   "id": "51e81dff",
   "metadata": {},
   "outputs": [],
   "source": [
    "adjustedFinalData.to_csv(\"health_inspections.csv\", index = False)"
   ]
  },
  {
   "cell_type": "markdown",
   "id": "5e3f1193",
   "metadata": {},
   "source": [
    "# Run to generate file to store ratings"
   ]
  },
  {
   "cell_type": "code",
   "execution_count": null,
   "id": "eb566248",
   "metadata": {},
   "outputs": [],
   "source": [
    "data = pd.read_csv(\"./health_inspections.csv\", low_memory = False)\n",
    "queries = []\n",
    "for i in tqdm(range(len(data))):\n",
    "    inspection = data.loc[i].copy()\n",
    "    facility = clean_name(inspection[\"FACILITY NAME\"]).strip()\n",
    "    address = inspection[\"FACILITY ADDRESS\"].strip()\n",
    "    city = inspection[\"FACILITY CITY\"].strip()\n",
    "    state = inspection[\"FACILITY STATE\"].strip()\n",
    "    zipCode = inspection[\"FACILITY ZIP\"].strip()\n",
    "    \n",
    "    query = f\"{facility} {address}, {city}, {state} {zipCode}, USA\"\n",
    "    \n",
    "    queries.append(query)\n",
    "\n",
    "ratings_data = pd.dataFrame({\"query\": queries, \"id\": [\"Unknown\"] * len(queries), \"rating\": [\"Unknown\"] * len(queries)})\n",
    "ratings_data.to_csv(\"ratings_data.csv\", index = False)"
   ]
  },
  {
   "cell_type": "markdown",
   "id": "df45ad55",
   "metadata": {},
   "source": [
    "# Run to combine inpsections data with collected ratings"
   ]
  },
  {
   "cell_type": "code",
   "execution_count": null,
   "id": "ac912bd0",
   "metadata": {},
   "outputs": [],
   "source": [
    "data = pd.read_csv(\"./health_inspections.csv\", low_memory = False)\n",
    "for i in tqdm(range(len(data))):\n",
    "    inspection = data.loc[i].copy()\n",
    "    facility = clean_name(inspection[\"FACILITY NAME\"]).strip()\n",
    "    address = inspection[\"FACILITY ADDRESS\"].strip()\n",
    "    city = inspection[\"FACILITY CITY\"].strip()\n",
    "    state = inspection[\"FACILITY STATE\"].strip()\n",
    "    zipCode = inspection[\"FACILITY ZIP\"].strip()\n",
    "    \n",
    "    query = f\"{facility} {address}, {city}, {state} {zipCode}, USA\"\n",
    "    \n",
    "    data.loc[i, \"QUERY\"] = query\n",
    "data.to_csv(\"health_inspections.csv\", index = False)"
   ]
  },
  {
   "cell_type": "code",
   "execution_count": null,
   "id": "4c90810e",
   "metadata": {},
   "outputs": [],
   "source": [
    "data = pd.read_csv(\"./health_inspections.csv\", low_memory = False)\n",
    "ratings = pd.read_csv(\"./ratings_data.csv\")"
   ]
  },
  {
   "cell_type": "code",
   "execution_count": null,
   "id": "01bf91a2",
   "metadata": {},
   "outputs": [],
   "source": [
    "indices = ratings.loc[ratings[\"rating\"] != \"Unknown\"].index\n",
    "\n",
    "for i in tqdm(indices):\n",
    "    query = ratings.loc[i, \"query\"]\n",
    "    rating = ratings.loc[i, \"rating\"]\n",
    "    dataIndices = data.loc[data[\"QUERY\"] == query].index\n",
    "    data.loc[dataIndices, \"RATING\"] = rating"
   ]
  },
  {
   "cell_type": "code",
   "execution_count": null,
   "id": "0fc991bd",
   "metadata": {},
   "outputs": [],
   "source": [
    "data.to_csv(\"health_inspections.csv\", index = False)"
   ]
  }
 ],
 "metadata": {
  "kernelspec": {
   "display_name": "Python 3",
   "language": "python",
   "name": "python3"
  },
  "language_info": {
   "codemirror_mode": {
    "name": "ipython",
    "version": 3
   },
   "file_extension": ".py",
   "mimetype": "text/x-python",
   "name": "python",
   "nbconvert_exporter": "python",
   "pygments_lexer": "ipython3",
   "version": "3.10.12"
  }
 },
 "nbformat": 4,
 "nbformat_minor": 5
}
